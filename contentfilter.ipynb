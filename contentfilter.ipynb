{
 "cells": [
  {
   "cell_type": "markdown",
   "metadata": {},
   "source": [
    "# Imports, data loading"
   ]
  },
  {
   "cell_type": "code",
   "execution_count": 3,
   "metadata": {},
   "outputs": [],
   "source": [
    "from tqdm.notebook import tqdm\n",
    "from sklearn.feature_extraction.text import TfidfVectorizer\n",
    "from sklearn.metrics.pairwise import cosine_similarity\n",
    "import pandas as pd\n",
    "import numpy as np\n",
    "import json\n",
    "from sklearn.preprocessing import normalize\n",
    "\n",
    "behaviors_path = 'MINDsmall_train/behaviors.tsv'\n",
    "news_path = 'MINDsmall_train/news.tsv'\n",
    "news_data = pd.read_csv(news_path, sep='\\t', header=None, names=['ArticleID', 'Category', 'SubCategory', 'Title', 'Abstract', 'URL', 'TitleEntities', 'AbsEntities'])\n",
    "\n",
    "news_data['Title'] = news_data['Title'].fillna('')\n",
    "news_data['Abstract'] = news_data['Abstract'].fillna('')\n",
    "\n",
    "# Concatenating title and abstract for a comprehensive representation\n",
    "news_data['content'] = news_data['Title'] + \" \" + news_data['Abstract']\n",
    "\n",
    "# Vectorizing the content using TF-IDF\n",
    "tfidf_vectorizer = TfidfVectorizer(stop_words='english', max_features=500)\n",
    "\n",
    "tfidf_matrix = tfidf_vectorizer.fit_transform(news_data['content'])"
   ]
  },
  {
   "cell_type": "code",
   "execution_count": 4,
   "metadata": {},
   "outputs": [
    {
     "data": {
      "text/plain": [
       "51282"
      ]
     },
     "execution_count": 4,
     "metadata": {},
     "output_type": "execute_result"
    }
   ],
   "source": [
    "news_data.ArticleID.nunique()"
   ]
  },
  {
   "cell_type": "markdown",
   "metadata": {},
   "source": [
    "# Loading entity embeddings"
   ]
  },
  {
   "cell_type": "code",
   "execution_count": 5,
   "metadata": {},
   "outputs": [],
   "source": [
    "def load_entity_embeddings(file_path):\n",
    "    embeddings = {}\n",
    "    with open(file_path, 'r', encoding='utf-8') as file:\n",
    "        for line in file:\n",
    "            values = line.split()\n",
    "            entity_id = values[0]\n",
    "            vector = np.asarray(values[1:], dtype='float32')\n",
    "            embeddings[entity_id] = vector\n",
    "    return embeddings\n",
    "\n",
    "entity_embeddings_path = './MINDsmall_train/entity_embedding.vec'\n",
    "entity_embeddings = load_entity_embeddings(entity_embeddings_path)"
   ]
  },
  {
   "cell_type": "code",
   "execution_count": 6,
   "metadata": {},
   "outputs": [],
   "source": [
    "def article_to_embedding(article_entities, entity_embeddings):\n",
    "    try:\n",
    "        q_entities = [entity['WikidataId'] for entity in json.loads(article_entities)]\n",
    "    except:\n",
    "        q_entities = []\n",
    "    embeddings = [entity_embeddings[entity] for entity in q_entities if entity in entity_embeddings]\n",
    "    \n",
    "    if embeddings:\n",
    "        article_embedding = np.mean(embeddings, axis=0)\n",
    "    else:\n",
    "        article_embedding = np.zeros(next(iter(entity_embeddings.values())).shape)\n",
    "    return article_embedding\n",
    "\n",
    "def embeddings_count(article_entities):\n",
    "    try:\n",
    "        return len([entity['WikidataId'] for entity in json.loads(article_entities)])\n",
    "    except:\n",
    "        return 0\n",
    "\n",
    "def combine_embs_hstack(row): #Kanskje mean istedenfor hstack\n",
    "    if row[\"AbsEmbeddingsCount\"] == 0 and row[\"TitleEmbeddingsCount\"] != 0:\n",
    "        return np.hstack((row[\"TitleEmbs\"], row[\"TitleEmbs\"], row[\"TfidfEmbs\"]))\n",
    "    elif row[\"AbsEmbeddingsCount\"] != 0 and row[\"TitleEmbeddingsCount\"] == 0:\n",
    "        return np.hstack((row[\"AbsEmbs\"], row[\"AbsEmbs\"], row[\"TfidfEmbs\"]))\n",
    "    return np.hstack((row[\"TitleEmbs\"], row[\"AbsEmbs\"], row[\"TfidfEmbs\"]))\n",
    "\n",
    "\n",
    "# Compute raw embeddings\n",
    "news_data[\"TitleEmbs\"] = news_data['TitleEntities'].apply(lambda x: article_to_embedding(x, entity_embeddings))\n",
    "news_data[\"AbsEmbs\"] = news_data['AbsEntities'].apply(lambda x: article_to_embedding(x, entity_embeddings))\n",
    "\n",
    "# title_embs = np.array([article_to_embedding(entities, entity_embeddings) for entities in news_data['TitleEntities'].fillna('')])\n",
    "# abs_embs = np.array([article_to_embedding(entities, entity_embeddings) for entities in news_data['AbsEntities'].fillna('')])\n",
    "\n",
    "# Normalize embs\n",
    "normalized_title_embs = normalize(news_data[\"TitleEmbs\"].values.tolist(), axis=1)\n",
    "normalized_abs_embs = normalize(news_data[\"AbsEmbs\"].values.tolist(), axis=1)\n",
    "tfidf_normalized = normalize(tfidf_matrix.toarray(), axis=1)\n",
    "\n",
    "list_normalized_tfidf = [list(x) for x in tfidf_normalized]\n",
    "list_normalized_title_embs = [list(x) for x in normalized_title_embs]\n",
    "list_normalized_abs_embs = [list(x) for x in normalized_abs_embs]\n",
    "\n",
    "news_data[\"TitleEmbs\"] = list_normalized_title_embs\n",
    "news_data[\"AbsEmbs\"] = list_normalized_abs_embs\n",
    "news_data[\"TfidfEmbs\"] = list_normalized_tfidf\n",
    "\n",
    "# compute count\n",
    "news_data[\"AbsEmbeddingsCount\"] = news_data['AbsEntities'].apply(lambda x: embeddings_count(x))\n",
    "news_data[\"TitleEmbeddingsCount\"] = news_data['TitleEntities'].apply(lambda x: embeddings_count(x))\n",
    "\n",
    "news_data[\"CombinedEmbeddings\"] = news_data.apply(lambda x: combine_embs_hstack(x), axis=1)"
   ]
  },
  {
   "cell_type": "code",
   "execution_count": 7,
   "metadata": {},
   "outputs": [],
   "source": [
    "embeddings_matrix = np.stack(news_data['CombinedEmbeddings'].values)\n",
    "similarity_matrix = cosine_similarity(embeddings_matrix)\n",
    "article_ids = list(news_data['ArticleID'])\n",
    "article_index_dict = {id: index for index, id in enumerate(article_ids)}"
   ]
  },
  {
   "cell_type": "code",
   "execution_count": null,
   "metadata": {},
   "outputs": [],
   "source": [
    "all([article_ids[id] == index for index, id in article_index_dict.items()])"
   ]
  },
  {
   "cell_type": "code",
   "execution_count": null,
   "metadata": {},
   "outputs": [],
   "source": [
    "def find_n_closest_articles(article_id, similarity_matrix, article_ids, n=5):\n",
    "    # Get the index of the article_id in the DataFrame\n",
    "    article_idx = article_ids.index(article_id)\n",
    "    \n",
    "    # Get the similarity scores for all other articles from the similarity matrix\n",
    "    similarity_scores = similarity_matrix[article_idx]\n",
    "    \n",
    "    # Get indices of the scores sorted from highest to lowest\n",
    "    sorted_indices = np.argsort(similarity_scores)[::-1]\n",
    "    \n",
    "    # Find the top n closest article indices, ignoring the first one as it's the article itself\n",
    "    closest_indices = sorted_indices[1:n+1]\n",
    "    \n",
    "    # Retrieve the corresponding article IDs\n",
    "    closest_article_ids = [article_ids[i] for i in closest_indices]\n",
    "    \n",
    "    return closest_article_ids"
   ]
  },
  {
   "cell_type": "code",
   "execution_count": null,
   "metadata": {},
   "outputs": [],
   "source": [
    "target_article_id = 'N34418'\n",
    "closest_articles = find_n_closest_articles(target_article_id, similarity_matrix, article_ids, n=5)\n",
    "for article in closest_articles:\n",
    "    title = news_data[news_data['ArticleID'] == article]['Title'].values[0]\n",
    "    category = news_data[news_data['ArticleID'] == article]['Category'].values[0]\n",
    "    subcategory = news_data[news_data['ArticleID'] == article]['SubCategory'].values[0]\n",
    "    print(f\"Article: {title}, Category: {category}, Subcategory: {subcategory}\")"
   ]
  },
  {
   "cell_type": "code",
   "execution_count": 8,
   "metadata": {},
   "outputs": [],
   "source": [
    "behaviors_df = pd.read_csv(behaviors_path, sep='\\t', header=None, names=['ImpressionID', 'UserID', 'Time', 'History', 'Impressions'])"
   ]
  },
  {
   "cell_type": "code",
   "execution_count": 22,
   "metadata": {},
   "outputs": [],
   "source": [
    "def get_similarity_of_article_to_history(article_id, history_articles, similarity_matrix, article_index_dict):\n",
    "    history_indices = [article_index_dict.get(article, -1) for article in history_articles]\n",
    "    history_indices = [i for i in history_indices if i != -1]\n",
    "    if article_id in article_index_dict:\n",
    "        article_index = article_index_dict[article_id]\n",
    "        similarities = similarity_matrix[article_index, history_indices]\n",
    "        return np.mean(similarities) if len(history_indices) > 0 else 0.0\n",
    "    return 0.0"
   ]
  },
  {
   "cell_type": "code",
   "execution_count": 23,
   "metadata": {},
   "outputs": [],
   "source": [
    "def check_acc(history, impressions, sim_matrix, article_index_dict):\n",
    "    impression_similarities = {}\n",
    "    for h2 in impressions:\n",
    "        sign = True if h2.split('-')[1] == '1' else False\n",
    "        id = h2.split('-')[0]\n",
    "        pred_similarity = get_similarity_of_article_to_history(id, history, sim_matrix, article_index_dict)\n",
    "        impression_similarities[id] = (pred_similarity, sign)\n",
    "    impression_similarities = sorted(impression_similarities.items(), key=lambda x: x[1][0], reverse=True)\n",
    "    return impression_similarities[0][1][1], impression_similarities"
   ]
  },
  {
   "cell_type": "code",
   "execution_count": null,
   "metadata": {},
   "outputs": [],
   "source": [
    "res_bool = []\n",
    "res_sim = []\n",
    "\n",
    "for iter, row in tqdm(behaviors_df.iterrows()):\n",
    "    if isinstance(row['History'], float):\n",
    "        continue\n",
    "    history = row['History'].split(' ')\n",
    "    impressions = row['Impressions'].split(' ')\n",
    "    truth, simdict = check_acc(history, impressions, similarity_matrix, article_index_dict)\n",
    "    res_bool.append(truth)\n",
    "    res_sim.append(simdict)"
   ]
  },
  {
   "cell_type": "code",
   "execution_count": null,
   "metadata": {},
   "outputs": [],
   "source": [
    "# how many top1 recommendations were correct\n",
    "print(\"Top1 accuracy: \", sum(res_bool) / len(res_bool), \" total: \", sum(res_bool), \" out of \", len(res_sim),\n",
    "      \" avg imp count in top1: \", np.mean([len(x) for x in res_sim if x[0][1][1]]), \n",
    "      \" random baseline is \", 1/np.mean([len(x) for x in res_sim if x[0][1][1]]))\n",
    "\n",
    "# how many top5 recommendations were correct\n",
    "top5 = 0\n",
    "top5_len = []\n",
    "for r in res_sim:\n",
    "    for i in range(min(5, len(r))):\n",
    "        if r[i][1][1]:\n",
    "            top5_len.append(len(r))\n",
    "            top5 += 1\n",
    "            break\n",
    "print(\"Top5 accuracy: \", top5 / len(res_bool), \" total: \", top5, \" out of \", len(res_sim),\n",
    "      \" avg imp count in top5: \", np.mean(top5_len),\n",
    "      \" random baseline is \", 5/np.mean(top5_len))\n",
    "\n",
    "# how many top10 recommendations were correct, careful out of bounds\n",
    "top10 = 0\n",
    "top10_len = []\n",
    "for r in res_sim:\n",
    "    for i in range(min(10, len(r))):\n",
    "        if r[i][1][1]:\n",
    "            top10_len.append(len(r))\n",
    "            top10 += 1\n",
    "            break\n",
    "print(\"Top10 accuracy: \", top10 / len(res_bool), \" total: \", top10, \" out of \", len(res_sim),\n",
    "      \" avg imp count in top10: \", np.mean(top10_len),\n",
    "      \" random baseline is \", 10/np.mean(top10_len))\n",
    "\n",
    "\n",
    "top15 = 0\n",
    "top15_len = []\n",
    "for r in res_sim:\n",
    "    for i in range(min(15, len(r))):\n",
    "        if r[i][1][1]:\n",
    "            top15_len.append(len(r))\n",
    "            top15 += 1\n",
    "            break\n",
    "print(\"Top15 accuracy: \", top15 / len(res_bool), \" total: \", top15, \" out of \", len(res_sim),\n",
    "      \" avg imp count in top15: \", np.mean(top15_len),\n",
    "      \" random baseline is \", 15/np.mean(top15_len))"
   ]
  },
  {
   "cell_type": "markdown",
   "metadata": {},
   "source": [
    "# Recommending articles"
   ]
  },
  {
   "cell_type": "code",
   "execution_count": null,
   "metadata": {},
   "outputs": [],
   "source": [
    "def recommend_similar_article(history_articles, all_articles, similarity_matrix, article_index_dict, n):\n",
    "    # Filter history articles to those with valid indices in the article_index_dict\n",
    "    history_indices = [article_index_dict[article] for article in history_articles if article in article_index_dict]\n",
    "\n",
    "    if not history_indices:\n",
    "        return []\n",
    "\n",
    "    # Vectorized operation to get similarity scores for all articles against all history articles\n",
    "    similarity_scores = similarity_matrix[:, history_indices]\n",
    "    average_similarities = np.mean(similarity_scores, axis=1)\n",
    "\n",
    "    # Get valid indices and corresponding articles that are present in both all_articles and article_index_dict\n",
    "    valid_indices = [article_index_dict[article] for article in all_articles if article in article_index_dict]\n",
    "    valid_articles = [article for article in all_articles if article in article_index_dict]\n",
    "\n",
    "    # Filtered array of average similarities for valid articles\n",
    "    filtered_similarities = average_similarities[valid_indices]\n",
    "\n",
    "    # Sort valid articles based on filtered average similarity in descending order\n",
    "    sorted_indices = np.argsort(-filtered_similarities)\n",
    "    top_indices = sorted_indices[:n]\n",
    "    top_articles = [(valid_articles[i], filtered_similarities[top_indices[i]]) for i in range(len(top_indices))]\n",
    "\n",
    "    return top_articles"
   ]
  },
  {
   "cell_type": "markdown",
   "metadata": {},
   "source": [
    "# Kanskje visualisere likhet mellom alle i historien"
   ]
  },
  {
   "cell_type": "code",
   "execution_count": null,
   "metadata": {},
   "outputs": [],
   "source": [
    "interactions_preds_dict = {}\n",
    "all_articles = set(news_data['ArticleID'].unique())\n",
    "\n",
    "#randomly sample 10000 interactions\n",
    "\n",
    "for iter, row in tqdm(behaviors_df.sample(1000, random_state=42).iterrows()):\n",
    "    if isinstance(row['History'], float):\n",
    "        continue\n",
    "    interactionid = row['ImpressionID']\n",
    "    history = row['History'].split(' ')\n",
    "    impressions = row['Impressions'].split(' ')\n",
    "    sorted_articles = recommend_similar_article(history, all_articles, similarity_matrix, article_index_dict, 15)\n",
    "    interactions_preds_dict[interactionid] = (sorted_articles, impressions)"
   ]
  },
  {
   "cell_type": "code",
   "execution_count": null,
   "metadata": {},
   "outputs": [],
   "source": [
    "recs = []\n",
    "for interactionid, (preds, impressions) in interactions_preds_dict.items():\n",
    "    for article, predicted_sim in preds:\n",
    "        if f'{article}-1' in impressions or f'{article}-0' in impressions:\n",
    "            recs.append((interactionid, article, predicted_sim, 1 if f'{article}-1' in impressions else 0))"
   ]
  },
  {
   "cell_type": "code",
   "execution_count": null,
   "metadata": {},
   "outputs": [],
   "source": [
    "print(sum([x[3] for x in recs]))\n",
    "print(len(recs))\n",
    "print(sum([x[3] for x in recs]) / len(recs))"
   ]
  },
  {
   "cell_type": "code",
   "execution_count": null,
   "metadata": {},
   "outputs": [],
   "source": [
    "recs_10 = []\n",
    "for interactionid, (preds, impressions) in interactions_preds_dict.items():\n",
    "    for article, predicted_sim in preds[:10]:\n",
    "        if f'{article}-1' in impressions or f'{article}-0' in impressions:\n",
    "            recs_10.append((interactionid, article, predicted_sim, 1 if f'{article}-1' in impressions else 0))\n",
    "print(sum([x[3] for x in recs_10]))\n",
    "print(len(recs_10))\n",
    "print(sum([x[3] for x in recs_10]) / len(recs_10))"
   ]
  },
  {
   "cell_type": "code",
   "execution_count": null,
   "metadata": {},
   "outputs": [],
   "source": []
  },
  {
   "cell_type": "markdown",
   "metadata": {},
   "source": [
    "# Checking predicted similarities vs all impressions and history, individually"
   ]
  },
  {
   "cell_type": "code",
   "execution_count": null,
   "metadata": {},
   "outputs": [],
   "source": [
    "similarity_hist_imp = {}\n",
    "\n",
    "for iter, row in tqdm(behaviors_df.iterrows()):\n",
    "    if isinstance(row['History'], float):\n",
    "        continue\n",
    "    interactionid = row['ImpressionID']\n",
    "    history = row['History'].split(' ')\n",
    "    impressions = row['Impressions'].split(' ')\n",
    "    # get each article similarity to history\n",
    "    hist_idx = [article_index_dict.get(article) for article in history if article in article_index_dict]\n",
    "    imp_idx = [article_index_dict.get(article.split('-')[0]) for article in impressions if article.split('-')[0] in article_index_dict]\n",
    "\n",
    "    hist_imp_sim = similarity_matrix[hist_idx, :][:, imp_idx]\n",
    "    \n",
    "    similarity_hist_imp[interactionid] = hist_imp_sim\n",
    "    if iter == 10000:\n",
    "        break"
   ]
  },
  {
   "cell_type": "code",
   "execution_count": null,
   "metadata": {},
   "outputs": [],
   "source": [
    "checking_sim = []\n",
    "for i, row in behaviors_df.iterrows():\n",
    "    iids = []\n",
    "    impression_id = row['ImpressionID']\n",
    "    history = row['History']\n",
    "    if isinstance(history, float):\n",
    "        continue\n",
    "    for impression in row['Impressions'].split(' '):\n",
    "        # if impression.split('-')[1] == '1':\n",
    "        iids.append(impression)\n",
    "    \n",
    "    for iid in iids:\n",
    "        iid_idx = article_index_dict.get(iid.split('-')[0])\n",
    "        chosen = int(iid.split('-')[1])\n",
    "        sims = []\n",
    "        for h in history.split(' '):\n",
    "            hist_idx = article_index_dict.get(h)\n",
    "            # print(f\"Now checking: {iid} and {h}, similarity: {similarity_matrix[iid_idx, hist_idx]}, iid_idx: {iid_idx}, hist_idx: {hist_idx}\")\n",
    "            # break\n",
    "            sims.append(similarity_matrix[iid_idx, hist_idx])\n",
    "        checking_sim.append((impression_id, sims, chosen, np.mean(sims), np.median(sims), np.max(sims), np.min(sims)))\n",
    "    if i == 2000:\n",
    "        break"
   ]
  },
  {
   "cell_type": "code",
   "execution_count": null,
   "metadata": {},
   "outputs": [],
   "source": [
    "checking_sim_chosen = [x for x in checking_sim if x[2] == 1]\n",
    "# plot the similarity-progression in the history for the chosen articles, checking_sim_chosen[n][1] is the list of similarities\n",
    "chosen_sims = {} \n",
    "for chosen_sim in checking_sim_chosen:\n",
    "    for i, sim in enumerate(chosen_sim[1]):\n",
    "        if i not in chosen_sims:\n",
    "            chosen_sims[i] = [sim]\n",
    "        chosen_sims[i].append(sim)"
   ]
  },
  {
   "cell_type": "code",
   "execution_count": null,
   "metadata": {},
   "outputs": [],
   "source": [
    "chosen_avg_mean = []\n",
    "chosen_avg_median = []\n",
    "chosen_avg_max = []\n",
    "chosen_avg_min = []\n",
    "\n",
    "not_chosen_avg_mean = []\n",
    "not_chosen_avg_median = []\n",
    "not_chosen_avg_max = []\n",
    "not_chosen_avg_min = []\n",
    "\n",
    "\n",
    "chosen_first_history_vals = []\n",
    "chosen_last_history_vals = []\n",
    "\n",
    "chosen_first_half_hist_vals = []\n",
    "chosen_second_half_hist_vals = []\n",
    "\n",
    "for sim in checking_sim:\n",
    "    if sim[2] == 1:\n",
    "        chosen_avg_mean.append(sim[3])\n",
    "        chosen_avg_median.append(sim[4])\n",
    "        chosen_avg_max.append(sim[5])\n",
    "        chosen_avg_min.append(sim[6])\n",
    "        chosen_first_history_vals.append(sim[1][0])\n",
    "        chosen_last_history_vals.append(sim[1][-1])\n",
    "        chosen_first_half_hist_vals.extend(sim[1][:len(sim[1])//2])\n",
    "        chosen_second_half_hist_vals.extend(sim[1][len(sim[1])//2:])\n",
    "    else:\n",
    "        not_chosen_avg_mean.append(sim[3])\n",
    "        not_chosen_avg_median.append(sim[4])\n",
    "        not_chosen_avg_max.append(sim[5])\n",
    "        not_chosen_avg_min.append(sim[6])\n",
    "\n",
    "print(\"Chosen average mean: \", np.mean(chosen_avg_mean))\n",
    "print(\"Chosen average median: \", np.mean(chosen_avg_median))\n",
    "print(\"Chosen average max: \", np.mean(chosen_avg_max))\n",
    "print(\"Chosen average min: \", np.mean(chosen_avg_min))\n",
    "\n",
    "print(\"Not chosen average mean: \", np.mean(not_chosen_avg_mean))\n",
    "print(\"Not chosen average median: \", np.mean(not_chosen_avg_median))\n",
    "print(\"Not chosen average max: \", np.mean(not_chosen_avg_max))\n",
    "print(\"Not chosen average min: \", np.mean(not_chosen_avg_min))\n",
    "\n",
    "print()\n",
    "print(\"Chosen first history mean: \", np.mean(chosen_first_history_vals))\n",
    "print(\"Chosen first history median: \", np.median(chosen_first_history_vals))\n",
    "print(\"Chosen first history max: \", np.max(chosen_first_history_vals))\n",
    "print(\"Chosen first history min: \", np.min(chosen_first_history_vals))\n",
    "\n",
    "print()\n",
    "print(\"Chosen last history mean: \", np.mean(chosen_last_history_vals))\n",
    "print(\"Chosen last history median: \", np.median(chosen_last_history_vals))\n",
    "print(\"Chosen last history max: \", np.max(chosen_last_history_vals))\n",
    "print(\"Chosen last history min: \", np.min(chosen_last_history_vals))\n",
    "\n",
    "print()\n",
    "print(\"Chosen first half history mean: \", np.mean(chosen_first_half_hist_vals))\n",
    "print(\"Chosen first half history median: \", np.median(chosen_first_half_hist_vals))\n",
    "print(\"Chosen first half history max: \", np.max(chosen_first_half_hist_vals))\n",
    "print(\"Chosen first half history min: \", np.min(chosen_first_half_hist_vals))\n",
    "\n",
    "print()\n",
    "print(\"Chosen second half history mean: \", np.mean(chosen_second_half_hist_vals))\n",
    "print(\"Chosen second half history median: \", np.median(chosen_second_half_hist_vals))\n",
    "print(\"Chosen second half history max: \", np.max(chosen_second_half_hist_vals))\n",
    "print(\"Chosen second half history min: \", np.min(chosen_second_half_hist_vals))"
   ]
  },
  {
   "cell_type": "code",
   "execution_count": null,
   "metadata": {},
   "outputs": [],
   "source": [
    "bidx_hist = article_index_dict.get('N55189')\n",
    "idx_iid = article_index_dict.get('N55689')\n",
    "similarity_matrix[idx_iid, bidx_hist] == similarity_matrix[bidx_hist, idx_iid]"
   ]
  },
  {
   "cell_type": "code",
   "execution_count": null,
   "metadata": {},
   "outputs": [],
   "source": [
    "print(len(similarity_hist_imp[1]))\n",
    "print(similarity_hist_imp[1])"
   ]
  },
  {
   "cell_type": "code",
   "execution_count": null,
   "metadata": {},
   "outputs": [],
   "source": [
    "users = behaviors_df['UserID'].unique()\n",
    "user_histories = {}\n",
    "for user in users:\n",
    "    histories = behaviors_df[behaviors_df['UserID'] == user].History.values\n",
    "    user_histories[user] = histories"
   ]
  },
  {
   "cell_type": "code",
   "execution_count": null,
   "metadata": {},
   "outputs": [],
   "source": [
    "equal = 0\n",
    "not_eq = 0\n",
    "not_eqs = []\n",
    "for u_hist in user_histories.values():\n",
    "    if not all(x == u_hist[0] for x in u_hist):\n",
    "        not_eq += 1\n",
    "        not_eqs.append(u_hist)\n",
    "    else:\n",
    "        equal += 1"
   ]
  },
  {
   "cell_type": "code",
   "execution_count": null,
   "metadata": {},
   "outputs": [],
   "source": [
    "b = [x for x in not_eqs if not all(y for y in x if not isinstance(y, float))]\n",
    "b"
   ]
  },
  {
   "cell_type": "markdown",
   "metadata": {},
   "source": [
    "# Evals\n",
    "#### Making testset from the last day of data (typically how data is gathered in industry), and adding prev impressions to history for each user "
   ]
  },
  {
   "cell_type": "code",
   "execution_count": null,
   "metadata": {},
   "outputs": [],
   "source": [
    "behaviors_df[\"Time\"] = pd.to_datetime(behaviors_df[\"Time\"])\n",
    "last_day = behaviors_df[\"Time\"].max().date()\n",
    "\n",
    "test_df = behaviors_df[behaviors_df[\"Time\"].dt.date == last_day]\n",
    "train_df = behaviors_df[behaviors_df[\"Time\"].dt.date != last_day]\n",
    "print(len(test_df), len(train_df))"
   ]
  },
  {
   "cell_type": "code",
   "execution_count": 24,
   "metadata": {},
   "outputs": [],
   "source": [
    "def get_all_user_history_sets(df, incimps=True):\n",
    "    user_histories = {}\n",
    "    for user in df['UserID'].unique():\n",
    "        hist_set = set()\n",
    "        histories = df[df['UserID'] == user].History.values\n",
    "        if isinstance(histories[0], float):\n",
    "            continue\n",
    "        histories = [history.split(' ') for history in histories]\n",
    "        hist_list = [hist for history in histories for hist in history]\n",
    "        if incimps:\n",
    "            impressions = df[df['UserID'] == user].Impressions.values\n",
    "            impressions = [impression.split(' ') for impression in impressions]\n",
    "            impressions = [imp for impression in impressions for imp in impression]\n",
    "            imps = [impression.split('-')[0] if impression.split('-')[1] == '1' else None for impression in impressions]\n",
    "            imps = [imp for imp in imps if imp is not None]\n",
    "            hist_set.update(imps)\n",
    "        hist_set.update(hist_list)\n",
    "        if user in user_histories:\n",
    "            user_histories[user].update(hist_set)\n",
    "        else:\n",
    "            user_histories[user] = hist_set\n",
    "    return user_histories"
   ]
  },
  {
   "cell_type": "code",
   "execution_count": null,
   "metadata": {},
   "outputs": [],
   "source": [
    "user_histories = get_all_user_history_sets(train_df)\n",
    "test_df['UserHistory'] = test_df['UserID'].apply(lambda x: ' '.join(list(user_histories[x])) if x in user_histories else '')"
   ]
  },
  {
   "cell_type": "code",
   "execution_count": null,
   "metadata": {},
   "outputs": [],
   "source": [
    "test_df"
   ]
  },
  {
   "cell_type": "markdown",
   "metadata": {},
   "source": [
    "## Making predictions on each impression in test_df"
   ]
  },
  {
   "cell_type": "code",
   "execution_count": 9,
   "metadata": {},
   "outputs": [],
   "source": [
    "#import train_test from sklearn\n",
    "from sklearn.model_selection import train_test_split"
   ]
  },
  {
   "cell_type": "code",
   "execution_count": 10,
   "metadata": {},
   "outputs": [],
   "source": [
    "def parse_behaviors(df):\n",
    "    user_histories = get_all_user_history_sets(df)\n",
    "    df['UserHistory'] = df['UserID'].apply(lambda x: ' '.join(list(user_histories[x])) if x in user_histories else '')\n",
    "    return df"
   ]
  },
  {
   "cell_type": "code",
   "execution_count": 11,
   "metadata": {},
   "outputs": [],
   "source": [
    "def recommend_similar_article(history_articles, all_articles, similarity_matrix, article_index_dict, n):\n",
    "    # Filter history articles to those with valid indices in the article_index_dict\n",
    "    history_indices = [article_index_dict[article] for article in history_articles if article in article_index_dict]\n",
    "\n",
    "    if not history_indices:\n",
    "        return []\n",
    "\n",
    "    # Vectorized operation to get similarity scores for all articles against all history articles\n",
    "    similarity_scores = similarity_matrix[:, history_indices]\n",
    "    average_similarities = np.mean(similarity_scores, axis=1)\n",
    "\n",
    "    # Get valid indices and corresponding articles that are present in both all_articles and article_index_dict\n",
    "    valid_indices = [article_index_dict[article] for article in all_articles if article in article_index_dict]\n",
    "    valid_articles = [article for article in all_articles if article in article_index_dict]\n",
    "\n",
    "    # remove history articles\n",
    "    # valid_indices = [x for x in valid_indices if x not in history_indices]\n",
    "    # valid_articles = [x for x in valid_articles if x not in history_articles]\n",
    "    \n",
    "    # Filtered array of average similarities for valid articles\n",
    "    filtered_similarities = average_similarities[valid_indices]\n",
    "\n",
    "    # Sort valid articles based on filtered average similarity in descending order\n",
    "    sorted_indices = np.argsort(-filtered_similarities)\n",
    "    top_indices = sorted_indices[:n]\n",
    "    top_articles = [valid_articles[i] for i in range(len(top_indices))]\n",
    "    return top_articles"
   ]
  },
  {
   "cell_type": "code",
   "execution_count": 19,
   "metadata": {},
   "outputs": [],
   "source": [
    "def get_all_imps(df):\n",
    "    user_impressions = set()\n",
    "    for user in df['UserID'].unique():\n",
    "        impressions = df[df['UserID'] == user].Impressions.values\n",
    "        impressions = [impression.split(' ') for impression in impressions]\n",
    "        impressions = [impression.split('-')[0] if impression.split('-')[1] == '1' else None for impression in [imp for impression in impressions for imp in impression]]\n",
    "        impressions = [imp for imp in impressions if imp is not None]\n",
    "        user_impressions.update(impressions)\n",
    "    return user_impressions"
   ]
  },
  {
   "cell_type": "code",
   "execution_count": 20,
   "metadata": {},
   "outputs": [
    {
     "data": {
      "text/plain": [
       "{'N17059', 'N55689'}"
      ]
     },
     "execution_count": 20,
     "metadata": {},
     "output_type": "execute_result"
    }
   ],
   "source": [
    "behaviors = behaviors_df.iloc[:2]\n",
    "get_all_imps(behaviors)"
   ]
  },
  {
   "cell_type": "code",
   "execution_count": 51,
   "metadata": {},
   "outputs": [
    {
     "name": "stdout",
     "output_type": "stream",
     "text": [
      "2019-11-10 10:22:21\n",
      "2019-11-09 03:00:19 2019-11-10 10:22:21\n",
      "2019-11-09 06:00:19 2019-11-10 10:22:21\n",
      "2019-11-09 09:00:19 2019-11-10 10:22:21\n",
      "2019-11-09 12:00:19 2019-11-10 10:22:21\n",
      "2019-11-09 15:00:19 2019-11-10 10:22:21\n",
      "2019-11-09 18:00:19 2019-11-10 10:22:21\n",
      "2019-11-09 21:00:19 2019-11-10 10:22:21\n",
      "2019-11-10 00:00:19 2019-11-10 10:22:21\n",
      "2019-11-10 03:00:19 2019-11-10 10:22:21\n",
      "2019-11-10 06:00:19 2019-11-10 10:22:21\n",
      "2019-11-10 09:00:19 2019-11-10 10:22:21\n"
     ]
    }
   ],
   "source": [
    "behaviors = pd.read_csv(behaviors_path, sep='\\t', header=None, names=['ImpressionID', 'UserID', 'Time', 'History', 'Impressions'])\n",
    "behaviors['Time'] = pd.to_datetime(behaviors['Time'])\n",
    "behaviors.sort_values('Time', inplace=True)\n",
    "# behaviors = behaviors.head(20000)\n",
    "start_time = behaviors['Time'].min()\n",
    "end_time = behaviors['Time'].max()\n",
    "print(end_time)\n",
    "window_size = pd.Timedelta(hours=3)\n",
    "top_n = {}\n",
    "correct = 0\n",
    "total = 0\n",
    "in_test = 0\n",
    "window_metrics = []\n",
    "precisions = []\n",
    "recalls = []\n",
    "\n",
    "while start_time + window_size < end_time:\n",
    "    df = behaviors[(behaviors['Time'] < start_time + window_size) & (behaviors['Time'] >= start_time)]\n",
    "    df = df.sort_values('Time')\n",
    "    items_in_window = set()\n",
    "    users_in_window = set()\n",
    "    trainset, testset = train_test_split(df, test_size=0.2, shuffle=False, random_state=42)\n",
    "    all_hist_sets = get_all_user_history_sets(df, incimps=False)\n",
    "    all_testsets = get_all_user_history_sets(testset)\n",
    "    all_imps = get_all_imps(df)\n",
    "    for hist in all_hist_sets.values():\n",
    "        items_in_window.update(hist)\n",
    "    for user in all_testsets:\n",
    "        users_in_window.add(user)\n",
    "\n",
    "    preds = {}\n",
    "    for user in users_in_window:\n",
    "        preds[user] = set(recommend_similar_article(all_hist_sets[user], all_imps, similarity_matrix, article_index_dict, 15))\n",
    "\n",
    "    for user in preds:\n",
    "        total += 15\n",
    "        precisions.append(len(all_testsets[user].intersection(preds[user])) / 15)\n",
    "        recalls.append(len(all_testsets[user].intersection(preds[user])) / len(all_testsets[user]))\n",
    "        intersection = all_testsets[user].intersection(preds[user])\n",
    "        if len(intersection) == 0:\n",
    "            continue\n",
    "        correct += len(intersection)\n",
    "\n",
    "    window_metrics.append({\"time\": start_time, \"correct\": correct, \"total\": total, \"precision\": np.mean(precisions), \"recall\": np.mean(recalls)})\n",
    "    correct = 0\n",
    "    precisions = []\n",
    "    recalls = []\n",
    "    total = 0\n",
    "    start_time += window_size\n",
    "    print(start_time, end_time)"
   ]
  },
  {
   "cell_type": "code",
   "execution_count": 52,
   "metadata": {},
   "outputs": [],
   "source": [
    "window_df = pd.DataFrame(window_metrics)"
   ]
  },
  {
   "cell_type": "code",
   "execution_count": 54,
   "metadata": {},
   "outputs": [],
   "source": [
    "window_df[\"precision\"] = window_df[\"precision\"] * 100\n",
    "window_df[\"recall\"] = window_df[\"recall\"] * 100"
   ]
  },
  {
   "cell_type": "code",
   "execution_count": 55,
   "metadata": {},
   "outputs": [
    {
     "data": {
      "text/html": [
       "<div>\n",
       "<style scoped>\n",
       "    .dataframe tbody tr th:only-of-type {\n",
       "        vertical-align: middle;\n",
       "    }\n",
       "\n",
       "    .dataframe tbody tr th {\n",
       "        vertical-align: top;\n",
       "    }\n",
       "\n",
       "    .dataframe thead th {\n",
       "        text-align: right;\n",
       "    }\n",
       "</style>\n",
       "<table border=\"1\" class=\"dataframe\">\n",
       "  <thead>\n",
       "    <tr style=\"text-align: right;\">\n",
       "      <th></th>\n",
       "      <th>time</th>\n",
       "      <th>correct</th>\n",
       "      <th>total</th>\n",
       "      <th>precision</th>\n",
       "      <th>recall</th>\n",
       "    </tr>\n",
       "  </thead>\n",
       "  <tbody>\n",
       "    <tr>\n",
       "      <th>0</th>\n",
       "      <td>2019-11-09 00:00:19</td>\n",
       "      <td>23</td>\n",
       "      <td>1680</td>\n",
       "      <td>1.369048</td>\n",
       "      <td>1.402300</td>\n",
       "    </tr>\n",
       "    <tr>\n",
       "      <th>1</th>\n",
       "      <td>2019-11-09 03:00:19</td>\n",
       "      <td>34</td>\n",
       "      <td>5760</td>\n",
       "      <td>0.590278</td>\n",
       "      <td>0.350088</td>\n",
       "    </tr>\n",
       "    <tr>\n",
       "      <th>2</th>\n",
       "      <td>2019-11-09 06:00:19</td>\n",
       "      <td>41</td>\n",
       "      <td>8670</td>\n",
       "      <td>0.472895</td>\n",
       "      <td>0.216198</td>\n",
       "    </tr>\n",
       "    <tr>\n",
       "      <th>3</th>\n",
       "      <td>2019-11-09 09:00:19</td>\n",
       "      <td>25</td>\n",
       "      <td>6090</td>\n",
       "      <td>0.410509</td>\n",
       "      <td>0.320375</td>\n",
       "    </tr>\n",
       "    <tr>\n",
       "      <th>4</th>\n",
       "      <td>2019-11-09 12:00:19</td>\n",
       "      <td>25</td>\n",
       "      <td>5250</td>\n",
       "      <td>0.476190</td>\n",
       "      <td>0.258082</td>\n",
       "    </tr>\n",
       "    <tr>\n",
       "      <th>5</th>\n",
       "      <td>2019-11-09 15:00:19</td>\n",
       "      <td>7</td>\n",
       "      <td>5145</td>\n",
       "      <td>0.136054</td>\n",
       "      <td>0.073878</td>\n",
       "    </tr>\n",
       "    <tr>\n",
       "      <th>6</th>\n",
       "      <td>2019-11-09 18:00:19</td>\n",
       "      <td>20</td>\n",
       "      <td>4095</td>\n",
       "      <td>0.488400</td>\n",
       "      <td>0.370968</td>\n",
       "    </tr>\n",
       "    <tr>\n",
       "      <th>7</th>\n",
       "      <td>2019-11-09 21:00:19</td>\n",
       "      <td>26</td>\n",
       "      <td>1980</td>\n",
       "      <td>1.313131</td>\n",
       "      <td>1.270575</td>\n",
       "    </tr>\n",
       "    <tr>\n",
       "      <th>8</th>\n",
       "      <td>2019-11-10 00:00:19</td>\n",
       "      <td>20</td>\n",
       "      <td>1425</td>\n",
       "      <td>1.403509</td>\n",
       "      <td>0.932554</td>\n",
       "    </tr>\n",
       "    <tr>\n",
       "      <th>9</th>\n",
       "      <td>2019-11-10 03:00:19</td>\n",
       "      <td>28</td>\n",
       "      <td>4785</td>\n",
       "      <td>0.585162</td>\n",
       "      <td>0.363925</td>\n",
       "    </tr>\n",
       "    <tr>\n",
       "      <th>10</th>\n",
       "      <td>2019-11-10 06:00:19</td>\n",
       "      <td>12</td>\n",
       "      <td>7275</td>\n",
       "      <td>0.164948</td>\n",
       "      <td>0.158291</td>\n",
       "    </tr>\n",
       "  </tbody>\n",
       "</table>\n",
       "</div>"
      ],
      "text/plain": [
       "                  time  correct  total  precision    recall\n",
       "0  2019-11-09 00:00:19       23   1680   1.369048  1.402300\n",
       "1  2019-11-09 03:00:19       34   5760   0.590278  0.350088\n",
       "2  2019-11-09 06:00:19       41   8670   0.472895  0.216198\n",
       "3  2019-11-09 09:00:19       25   6090   0.410509  0.320375\n",
       "4  2019-11-09 12:00:19       25   5250   0.476190  0.258082\n",
       "5  2019-11-09 15:00:19        7   5145   0.136054  0.073878\n",
       "6  2019-11-09 18:00:19       20   4095   0.488400  0.370968\n",
       "7  2019-11-09 21:00:19       26   1980   1.313131  1.270575\n",
       "8  2019-11-10 00:00:19       20   1425   1.403509  0.932554\n",
       "9  2019-11-10 03:00:19       28   4785   0.585162  0.363925\n",
       "10 2019-11-10 06:00:19       12   7275   0.164948  0.158291"
      ]
     },
     "execution_count": 55,
     "metadata": {},
     "output_type": "execute_result"
    }
   ],
   "source": [
    "window_df"
   ]
  },
  {
   "cell_type": "code",
   "execution_count": 56,
   "metadata": {},
   "outputs": [],
   "source": [
    "window_df['time'] = pd.to_datetime(window_df['time'])"
   ]
  },
  {
   "cell_type": "code",
   "execution_count": 58,
   "metadata": {},
   "outputs": [
    {
     "data": {
      "image/png": "[encoded data removed]",
      "text/plain": [
       "<Figure size 1200x600 with 1 Axes>"
      ]
     },
     "metadata": {},
     "output_type": "display_data"
    }
   ],
   "source": [
    "# plot recall and precision against time\n",
    "import matplotlib.pyplot as plt\n",
    "plt.figure(figsize=(12, 6))\n",
    "plt.plot(window_df['time'], window_df['recall'], label='Recall')\n",
    "plt.plot(window_df['time'], window_df['precision'], label='Precision')\n",
    "plt.xlabel('Time')\n",
    "plt.ylabel('Percentage')\n",
    "plt.title('Recall and Precision over time')\n",
    "plt.legend()\n",
    "plt.show()"
   ]
  },
  {
   "cell_type": "code",
   "execution_count": null,
   "metadata": {},
   "outputs": [],
   "source": [
    "precision = correct / total*10\n",
    "recall = correct / len(all_imps)*100\n",
    "print(precision, recall)"
   ]
  },
  {
   "cell_type": "code",
   "execution_count": null,
   "metadata": {},
   "outputs": [],
   "source": [
    "correct"
   ]
  },
  {
   "cell_type": "code",
   "execution_count": null,
   "metadata": {},
   "outputs": [],
   "source": [
    "for user in preds:\n",
    "    print(all([l in all_imps for l in preds[user]]))\n",
    "\n",
    "    # print(user, preds[user], all_testsets[user])\n",
    "    # break"
   ]
  },
  {
   "cell_type": "code",
   "execution_count": null,
   "metadata": {},
   "outputs": [],
   "source": [
    "for user in preds:\n",
    "    intersection = all_testsets[user].intersection(preds[user])\n",
    "    if len(intersection) == 0:\n",
    "        continue\n",
    "    print(intersection, user)"
   ]
  },
  {
   "cell_type": "code",
   "execution_count": null,
   "metadata": {},
   "outputs": [],
   "source": [
    "testset[testset['UserID'] == 'U92212'].Impressions.values[0]"
   ]
  },
  {
   "cell_type": "code",
   "execution_count": null,
   "metadata": {},
   "outputs": [],
   "source": [
    "interactions_preds_dict = {}\n",
    "all_articles = set(news_data['ArticleID'].unique())\n",
    "\n",
    "#randomly sample 10000 interactions\n",
    "\n",
    "for iter, row in tqdm(test_df.sample(200, random_state=42).iterrows()):\n",
    "    if row['UserHistory'] == '':\n",
    "        continue\n",
    "    interactionid = row['ImpressionID']\n",
    "    history = row['UserHistory'].split(' ')\n",
    "    impressions = row['Impressions'].split(' ')\n",
    "    sorted_articles = recommend_similar_article(history, all_articles, similarity_matrix, article_index_dict, 40)\n",
    "    interactions_preds_dict[interactionid] = (sorted_articles, impressions)"
   ]
  },
  {
   "cell_type": "code",
   "execution_count": null,
   "metadata": {},
   "outputs": [],
   "source": [
    "recs = []\n",
    "for interactionid, (preds, impressions) in interactions_preds_dict.items():\n",
    "    for article, predicted_sim in preds:\n",
    "        if f'{article}-1' in impressions or f'{article}-0' in impressions:\n",
    "            recs.append((interactionid, article, predicted_sim, 1 if f'{article}-1' in impressions else 0))"
   ]
  },
  {
   "cell_type": "code",
   "execution_count": null,
   "metadata": {},
   "outputs": [],
   "source": []
  }
 ],
 "metadata": {
  "kernelspec": {
   "display_name": "recsys",
   "language": "python",
   "name": "python3"
  },
  "language_info": {
   "codemirror_mode": {
    "name": "ipython",
    "version": 3
   },
   "file_extension": ".py",
   "mimetype": "text/x-python",
   "name": "python",
   "nbconvert_exporter": "python",
   "pygments_lexer": "ipython3",
   "version": "3.11.8"
  }
 },
 "nbformat": 4,
 "nbformat_minor": 2
}
